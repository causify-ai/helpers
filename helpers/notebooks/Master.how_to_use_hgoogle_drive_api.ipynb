{
 "cells": [
  {
   "cell_type": "markdown",
   "id": "7fb27b941602401d91542211134fc71a",
   "metadata": {},
   "source": [
    "CONTENTS:\n",
    "- [hgoogle_file_api.py](#hgoogle_file_api.py)\n",
    "  - [Get Credentials for your drive](#get-credentials-for-your-drive)\n",
    "  - [Get Tab/Sheet id of a particular google sheet](#get-tab/sheet-id-of-a-particular-google-sheet)\n",
    "  - [Freeze Rows](#freeze-rows)\n",
    "  - [Change the height of certin rows](#change-the-height-of-certin-rows)\n",
    "  - [Read some nice data](#read-some-nice-data)\n",
    "  - [Write this nice data](#write-this-nice-data)"
   ]
  },
  {
   "cell_type": "markdown",
   "id": "982ab891-de0a-47d5-946a-0f4fd3f16307",
   "metadata": {},
   "source": [
    "<a name='hgoogle_file_api.py'></a>\n",
    "# hgoogle_file_api.py"
   ]
  },
  {
   "cell_type": "code",
   "execution_count": 16,
   "id": "6b997caf-4bfc-47bc-b7e1-584f02da328f",
   "metadata": {},
   "outputs": [],
   "source": [
    "#!sudo /bin/bash -c \"(source /venv/bin/activate; pip install --upgrade google-api-python-client)\"\n",
    "# !sudo /bin/bash -c \"(source /venv/bin/activate; pip install --upgrade pip install oauth2client)\"\n",
    "#!sudo /bin/bash -c \"(source /venv/bin/activate; pip install --upgrade gspread)\""
   ]
  },
  {
   "cell_type": "code",
   "execution_count": 4,
   "id": "0fdf8a01-00ed-4e40-8b8b-3e4ecfe37d45",
   "metadata": {},
   "outputs": [
    {
     "data": {
      "text/plain": [
       "<module 'helpers.hgoogle_drive_api' from '/app/helpers/hgoogle_drive_api.py'>"
      ]
     },
     "execution_count": 4,
     "metadata": {},
     "output_type": "execute_result"
    }
   ],
   "source": [
    "import importlib\n",
    "import helpers.hgoogle_drive_api as hgodrapi\n",
    "\n",
    "importlib.reload(hgodrapi)"
   ]
  },
  {
   "cell_type": "markdown",
   "id": "f9733115-f65b-43fb-8b56-32be7588c617",
   "metadata": {},
   "source": [
    "<a name='get-credentials-for-your-drive'></a>\n",
    "## Get Credentials for your drive"
   ]
  },
  {
   "cell_type": "code",
   "execution_count": 6,
   "id": "0f3eb12a-bd7e-4846-a8f0-331ece997137",
   "metadata": {},
   "outputs": [
    {
     "name": "stdout",
     "output_type": "stream",
     "text": [
      "<google.oauth2.service_account.Credentials object at 0x7f6488116480>\n"
     ]
    }
   ],
   "source": [
    "google_creds = hgodrapi.get_credentials()\n",
    "print(google_creds)"
   ]
  },
  {
   "cell_type": "code",
   "execution_count": 7,
   "id": "feb74dae-ff52-44ce-b698-4c04cc2bc8f3",
   "metadata": {},
   "outputs": [
    {
     "name": "stdout",
     "output_type": "stream",
     "text": [
      "<googleapiclient.discovery.Resource object at 0x7f6437ccf8c0>\n"
     ]
    }
   ],
   "source": [
    "service = hgodrapi.get_sheets_service(credentials=google_creds)\n",
    "print(service)"
   ]
  },
  {
   "cell_type": "markdown",
   "id": "9e1c8840-c759-4bd6-a2c5-f30d94daf72b",
   "metadata": {},
   "source": [
    "<a name='get-tab/sheet-id-of-a-particular-google-sheet'></a>\n",
    "## Get Tab/Sheet id of a particular google sheet"
   ]
  },
  {
   "cell_type": "code",
   "execution_count": 8,
   "id": "67fe7cc1-0f90-4b45-b93d-c6eaecd25028",
   "metadata": {},
   "outputs": [],
   "source": [
    "sheet_name = \"cleaned_profiles_1\"\n",
    "url = \"https://docs.google.com/spreadsheets/d/1VRJQZ4kSoqAeOr9MkWcYbIcArNRyglTREaMg1WlZHGA/edit?gid=1687996260#gid=1687996260\"\n",
    "sheet_id = \"1VRJQZ4kSoqAeOr9MkWcYbIcArNRyglTREaMg1WlZHGA\"\n",
    "credentials = google_creds"
   ]
  },
  {
   "cell_type": "markdown",
   "id": "f18db947-8170-4cba-8799-dfe792e1c732",
   "metadata": {},
   "source": [
    "<a name='freeze-rows'></a>\n",
    "## Freeze Rows"
   ]
  },
  {
   "cell_type": "code",
   "execution_count": 9,
   "id": "232a1ee0-83d2-4449-a8c0-a8e8eca02fc5",
   "metadata": {},
   "outputs": [],
   "source": [
    "row_indices = [0, 1, 2]\n",
    "hgodrapi.freeze_rows(\n",
    "    sheet_id=sheet_id,\n",
    "    row_indices=row_indices,\n",
    "    sheet_name=sheet_name,\n",
    "    credentials=credentials,\n",
    ")"
   ]
  },
  {
   "cell_type": "markdown",
   "id": "dd9b9b7d-2dc6-416d-bd9c-a8039fadaba2",
   "metadata": {},
   "source": [
    "<a name='change-the-height-of-certin-rows'></a>\n",
    "## Change the height of certin rows"
   ]
  },
  {
   "cell_type": "code",
   "execution_count": 10,
   "id": "50db6e3d-8d05-47ea-9ace-dc79ce131f37",
   "metadata": {},
   "outputs": [],
   "source": [
    "hgodrapi.set_row_height(\n",
    "    sheet_id=sheet_id,\n",
    "    height=20,\n",
    "    start_index=0,\n",
    "    end_index=2,\n",
    "    sheet_name=sheet_name,\n",
    "    credentials=google_creds,\n",
    ")"
   ]
  },
  {
   "cell_type": "markdown",
   "id": "3569d048-d69e-4e4b-ab53-a93b6f4a41d1",
   "metadata": {},
   "source": [
    "<a name='read-some-nice-data'></a>\n",
    "## Read some nice data"
   ]
  },
  {
   "cell_type": "code",
   "execution_count": 12,
   "id": "e63bede3-2948-4a37-b444-36b4dba81c6d",
   "metadata": {},
   "outputs": [],
   "source": [
    "nice_data = hgodrapi.read_google_file(url, sheet_name, credentials=google_creds)"
   ]
  },
  {
   "cell_type": "code",
   "execution_count": 13,
   "id": "59233081-ac03-4ac7-96b1-4de1b07fae75",
   "metadata": {},
   "outputs": [
    {
     "data": {
      "text/html": [
       "<div>\n",
       "<style scoped>\n",
       "    .dataframe tbody tr th:only-of-type {\n",
       "        vertical-align: middle;\n",
       "    }\n",
       "\n",
       "    .dataframe tbody tr th {\n",
       "        vertical-align: top;\n",
       "    }\n",
       "\n",
       "    .dataframe thead th {\n",
       "        text-align: right;\n",
       "    }\n",
       "</style>\n",
       "<table border=\"1\" class=\"dataframe\">\n",
       "  <thead>\n",
       "    <tr style=\"text-align: right;\">\n",
       "      <th></th>\n",
       "      <th>Name</th>\n",
       "      <th>Title</th>\n",
       "      <th>Firm</th>\n",
       "      <th>Location</th>\n",
       "      <th>Personal Investment Focus</th>\n",
       "      <th>Geographic Focus</th>\n",
       "      <th>Typical Deal Size</th>\n",
       "      <th>Preferred Stages</th>\n",
       "      <th>Notable Personal AI Investments</th>\n",
       "      <th>Potential Fit with Kaizen</th>\n",
       "      <th>firstName</th>\n",
       "      <th>lastName</th>\n",
       "    </tr>\n",
       "  </thead>\n",
       "  <tbody>\n",
       "    <tr>\n",
       "      <th>0</th>\n",
       "      <td>Michael Moritz</td>\n",
       "      <td>Managing Partner</td>\n",
       "      <td>Sequoia Capital</td>\n",
       "      <td>Menlo Park</td>\n",
       "      <td>AI/ML</td>\n",
       "      <td>Global</td>\n",
       "      <td>$10M</td>\n",
       "      <td>Early to Growth</td>\n",
       "      <td>Google</td>\n",
       "      <td>High'''</td>\n",
       "      <td>Michael</td>\n",
       "      <td>Moritz</td>\n",
       "    </tr>\n",
       "    <tr>\n",
       "      <th>1</th>\n",
       "      <td>Navid Alipour</td>\n",
       "      <td>Managing Partner</td>\n",
       "      <td>Analytics Ventures</td>\n",
       "      <td>San Diego</td>\n",
       "      <td>AI/ML</td>\n",
       "      <td>San Diego</td>\n",
       "      <td>$5M</td>\n",
       "      <td>Seed</td>\n",
       "      <td>CureMetrix</td>\n",
       "      <td>High''</td>\n",
       "      <td>Navid</td>\n",
       "      <td>Alipour</td>\n",
       "    </tr>\n",
       "    <tr>\n",
       "      <th>2</th>\n",
       "      <td>Aaref Hilaly</td>\n",
       "      <td>Partner</td>\n",
       "      <td>Bain Capital Ventures</td>\n",
       "      <td>Palo Alto</td>\n",
       "      <td>Real-time Analytics</td>\n",
       "      <td>Burlingame</td>\n",
       "      <td>Seed</td>\n",
       "      <td>Seed/Early Stage</td>\n",
       "      <td>Rubrik</td>\n",
       "      <td>Medium</td>\n",
       "      <td>Aaref</td>\n",
       "      <td>Hilaly</td>\n",
       "    </tr>\n",
       "    <tr>\n",
       "      <th>3</th>\n",
       "      <td>Aaron Fleishman</td>\n",
       "      <td>Principal</td>\n",
       "      <td>Tola Capital</td>\n",
       "      <td>Seattle WA</td>\n",
       "      <td>Enterprise AI</td>\n",
       "      <td>PNW</td>\n",
       "      <td>$5M-$20M</td>\n",
       "      <td>Series A</td>\n",
       "      <td>Databricks</td>\n",
       "      <td>High</td>\n",
       "      <td>Aaron</td>\n",
       "      <td>Fleishman</td>\n",
       "    </tr>\n",
       "    <tr>\n",
       "      <th>4</th>\n",
       "      <td>Aaron Jacobson</td>\n",
       "      <td>Partner</td>\n",
       "      <td>New Enterprise Associates</td>\n",
       "      <td>Menlo Park</td>\n",
       "      <td>MLOps</td>\n",
       "      <td>North America</td>\n",
       "      <td>Series A</td>\n",
       "      <td>$10M-$30M</td>\n",
       "      <td>Databricks</td>\n",
       "      <td>High</td>\n",
       "      <td>Aaron</td>\n",
       "      <td>Jacobson</td>\n",
       "    </tr>\n",
       "  </tbody>\n",
       "</table>\n",
       "</div>"
      ],
      "text/plain": [
       "              Name             Title                       Firm    Location  \\\n",
       "0   Michael Moritz  Managing Partner            Sequoia Capital  Menlo Park   \n",
       "1    Navid Alipour  Managing Partner         Analytics Ventures   San Diego   \n",
       "2     Aaref Hilaly           Partner      Bain Capital Ventures   Palo Alto   \n",
       "3  Aaron Fleishman         Principal               Tola Capital  Seattle WA   \n",
       "4   Aaron Jacobson           Partner  New Enterprise Associates  Menlo Park   \n",
       "\n",
       "  Personal Investment Focus Geographic Focus Typical Deal Size  \\\n",
       "0                     AI/ML           Global              $10M   \n",
       "1                     AI/ML        San Diego               $5M   \n",
       "2       Real-time Analytics       Burlingame              Seed   \n",
       "3             Enterprise AI              PNW          $5M-$20M   \n",
       "4                     MLOps    North America          Series A   \n",
       "\n",
       "   Preferred Stages Notable Personal AI Investments Potential Fit with Kaizen  \\\n",
       "0   Early to Growth                          Google                   High'''   \n",
       "1              Seed                      CureMetrix                    High''   \n",
       "2  Seed/Early Stage                          Rubrik                    Medium   \n",
       "3          Series A                      Databricks                      High   \n",
       "4         $10M-$30M                      Databricks                      High   \n",
       "\n",
       "  firstName   lastName  \n",
       "0   Michael     Moritz  \n",
       "1     Navid    Alipour  \n",
       "2     Aaref     Hilaly  \n",
       "3     Aaron  Fleishman  \n",
       "4     Aaron   Jacobson  "
      ]
     },
     "execution_count": 13,
     "metadata": {},
     "output_type": "execute_result"
    }
   ],
   "source": [
    "nice_data.head()"
   ]
  },
  {
   "cell_type": "code",
   "execution_count": 14,
   "id": "30dcc791-cbdb-45f1-9298-a74e0a7babab",
   "metadata": {},
   "outputs": [
    {
     "data": {
      "text/plain": [
       "(100, 12)"
      ]
     },
     "execution_count": 14,
     "metadata": {},
     "output_type": "execute_result"
    }
   ],
   "source": [
    "nice_data.shape"
   ]
  },
  {
   "cell_type": "markdown",
   "id": "5c4cafb4-fe5f-4f6e-b594-759b199acb7e",
   "metadata": {},
   "source": [
    "<a name='write-this-nice-data'></a>\n",
    "## Write this nice data"
   ]
  },
  {
   "cell_type": "code",
   "execution_count": 15,
   "id": "3b1f4a89-cb96-417a-86f4-ebc513c18510",
   "metadata": {},
   "outputs": [
    {
     "name": "stderr",
     "output_type": "stream",
     "text": [
      "Tab 'testing_tab' not found, creating a new tab with the name 'testing_tab'...\n"
     ]
    }
   ],
   "source": [
    "hgodrapi.write_to_google_sheet(\n",
    "    nice_data, url, \"testing_tab\", credentials=google_creds\n",
    ")"
   ]
  }
 ],
 "metadata": {
  "kernelspec": {
   "display_name": "Python 3 (ipykernel)",
   "language": "python",
   "name": "python3"
  },
  "language_info": {
   "codemirror_mode": {
    "name": "ipython",
    "version": 3
   },
   "file_extension": ".py",
   "mimetype": "text/x-python",
   "name": "python",
   "nbconvert_exporter": "python",
   "pygments_lexer": "ipython3",
   "version": "3.12.3"
  }
 },
 "nbformat": 4,
 "nbformat_minor": 5
}
