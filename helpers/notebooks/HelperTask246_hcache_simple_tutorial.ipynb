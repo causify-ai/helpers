{
 "cells": [
  {
   "cell_type": "markdown",
   "id": "9ad5fd70-a4de-4671-86c4-9f3e87c32df1",
   "metadata": {},
   "source": [
    "<a name='this-module-covers:'></a>\n",
    "<a name='this-tutorial-provides-a-detailed-walkthrough-of-the-hcache_simple-module,-which-implements-a-lightweight-caching-mechanism.-caching-can-significantly-improve-performance-for-functions-with-expensive-computations-by-storing-and-reusing-their-results.'></a>\n",
    "<a name='using-hcache_simple-for-caching-in-python'></a>\n",
    "\n",
    "# Using hcache_simple for Caching in Python\n",
    "\n",
    "## This tutorial provides a detailed walkthrough of the hcache_simple module, which implements a lightweight caching mechanism. Caching can significantly improve performance for functions with expensive computations by storing and reusing their results.\n",
    "\n"
   ]
  },
  {
   "cell_type": "code",
   "execution_count": 25,
   "id": "d20a80f4-b837-487f-96df-ebb9e8202cfc",
   "metadata": {},
   "outputs": [],
   "source": [
    "# Import necessary modules.\n",
    "import logging\n",
    "import time\n",
    "\n",
    "import helpers.hcache_simple as hcacsimp\n",
    "import helpers.hdbg as hdbg"
   ]
  },
  {
   "cell_type": "code",
   "execution_count": 26,
   "id": "5d76eda3-044b-47c9-bf5f-eb09aad51ad1",
   "metadata": {
    "lines_to_next_cell": 2
   },
   "outputs": [
    {
     "name": "stdout",
     "output_type": "stream",
     "text": [
      "\u001b[0m\u001b[33mWARNING\u001b[0m: Logger already initialized: skipping\n"
     ]
    }
   ],
   "source": [
    "hdbg.init_logger(verbosity=logging.INFO)\n",
    "\n",
    "_LOG = logging.getLogger(__name__)"
   ]
  },
  {
   "cell_type": "markdown",
   "id": "90aa14ab-f441-468c-a114-77cf9c6baff1",
   "metadata": {
    "lines_to_next_cell": 2
   },
   "source": [
    "<a name='setting-up-caching-with-@hcsi.simple_cache'></a>\n",
    "\n",
    "## Setting up Caching with @hcsi.simple_cache\n",
    "\n",
    "The @hcsi.simple_cache decorator is the core feature of hcache_simple. It enables caching for a function and supports both memory- and disk-based storage (json or pickle format).\n",
    "\n",
    "We'll demonstrate this with a function that simulates a slow computation.\n"
   ]
  },
  {
   "cell_type": "code",
   "execution_count": 27,
   "id": "dbc25952-6587-4bb9-a5e9-064ed0317550",
   "metadata": {},
   "outputs": [],
   "source": [
    "@hcacsimp.simple_cache(cache_type=\"json\", write_through=True)\n",
    "def slow_square(x):\n",
    "    \"\"\"\n",
    "    Simulate a slow function that computes the square of a number.\n",
    "\n",
    "    The `@hcsi.simple_cache` decorator caches the results of this\n",
    "    function to avoid recomputation for the same input.\n",
    "    \"\"\"\n",
    "    time.sleep(2)  # Simulate a time-consuming computation\n",
    "    return x**2"
   ]
  },
  {
   "cell_type": "markdown",
   "id": "e6821a4b-35cb-44b9-be54-3d5affccdf65",
   "metadata": {},
   "source": [
    "<a name='explanation-of-the-decorator-parameters'></a>\n",
    "\n",
    "## Explanation of the Decorator Parameters\n",
    "\n",
    "    - cache_type=\"json\": The cache will be stored in JSON format on disk.\n",
    "    - write_through=True: Any changes to the cache will be written to disk immediately.\n"
   ]
  },
  {
   "cell_type": "markdown",
   "id": "738a112b-3eac-4488-bd6b-8cba124d3f2d",
   "metadata": {},
   "source": [
    "<a name='demonstration:-first-and-subsequent-calls'></a>\n",
    "\n",
    "## Demonstration: First and Subsequent Calls\n",
    "\n",
    "Let's see how caching works:\n",
    "\n",
    "    - On the first call with a specific input, the function takes time to compute.\n",
    "    - On subsequent calls with the same input, the result is retrieved instantly from the cache.\n",
    "\n"
   ]
  },
  {
   "cell_type": "code",
   "execution_count": 28,
   "id": "789c978c-c25a-48ba-a8fc-34c9fc0b6243",
   "metadata": {},
   "outputs": [
    {
     "name": "stdout",
     "output_type": "stream",
     "text": [
      "First call (expected delay):\n",
      "Result: 16\n"
     ]
    }
   ],
   "source": [
    "# First call: Result is computed and cached.\n",
    "print(\"First call (expected delay):\")\n",
    "result = slow_square(4)\n",
    "print(f\"Result: {result}\")"
   ]
  },
  {
   "cell_type": "code",
   "execution_count": 29,
   "id": "af3af183-d293-45b4-9d60-c826e382a786",
   "metadata": {},
   "outputs": [
    {
     "name": "stdout",
     "output_type": "stream",
     "text": [
      "\n",
      "Second call (retrieved from cache):\n",
      "Result: 16\n"
     ]
    }
   ],
   "source": [
    "# Second call: Result is retrieved from the cache.\n",
    "print(\"\\nSecond call (retrieved from cache):\")\n",
    "result = slow_square(4)\n",
    "print(f\"Result: {result}\")"
   ]
  },
  {
   "cell_type": "markdown",
   "id": "124703fe-bf5d-4756-aa63-12dbed57db12",
   "metadata": {},
   "source": [
    "<a name='the-hcache_simple-module-provides-utilities-to-track-cache-performance-metrics,-such-as-the-total-number-of-calls,-cache-hits,-and-cache-misses.'></a>\n",
    "<a name='monitoring-cache-performance'></a>\n",
    "## Monitoring Cache Performance\n",
    "\n",
    "### The hcache_simple module provides utilities to track cache performance metrics, such as the total number of calls, cache hits, and cache misses.\n",
    "Explanation of Performance Metrics\n",
    "\n",
    "    - Total Calls (tot): The total number of times the function was invoked.\n",
    "    - Cache Hits (hits): The number of times the result was retrieved from the cache.\n",
    "    - Cache Misses (misses): The number of times the function had to compute the result due to a cache miss.\n",
    "    - Hit Rate: The percentage of calls where the result was retrieved from the cache.\n",
    "\n"
   ]
  },
  {
   "cell_type": "code",
   "execution_count": 30,
   "id": "879c8230-656d-455c-9370-1cd5afb8f59a",
   "metadata": {},
   "outputs": [],
   "source": [
    "# Enable cache performance monitoring for `slow_square`.\n",
    "hcacsimp.enable_cache_perf(\"slow_square\")"
   ]
  },
  {
   "cell_type": "code",
   "execution_count": 31,
   "id": "4dcf4f5d-e4ee-490e-a62e-a152af9c0e62",
   "metadata": {},
   "outputs": [
    {
     "name": "stdout",
     "output_type": "stream",
     "text": [
      "\n",
      "Cache Performance Stats:\n",
      "slow_square: hits=0 misses=0 tot=0 hit_rate=0.00\n"
     ]
    }
   ],
   "source": [
    "# Retrieve and display cache performance statistics.\n",
    "print(\"\\nCache Performance Stats:\")\n",
    "print(hcacsimp.get_cache_perf_stats(\"slow_square\"))"
   ]
  },
  {
   "cell_type": "code",
   "execution_count": 32,
   "id": "e4b46455-314f-4ff3-9f8a-93c91dcab334",
   "metadata": {
    "lines_to_next_cell": 2
   },
   "outputs": [
    {
     "name": "stdout",
     "output_type": "stream",
     "text": [
      "First call (expected delay):\n",
      "Result: 16\n",
      "\n",
      "Second call (retrieved from cache):\n",
      "Result: 16\n",
      "\n",
      "Cache Performance Stats:\n",
      "slow_square: hits=2 misses=0 tot=2 hit_rate=1.00\n"
     ]
    }
   ],
   "source": [
    "# Enable performance tracking before calling the function.\n",
    "hcacsimp.enable_cache_perf(\"slow_square\")\n",
    "\n",
    "print(\"First call (expected delay):\")\n",
    "result = slow_square(4)  # This call will be recorded as a cache miss.\n",
    "print(f\"Result: {result}\")\n",
    "\n",
    "print(\"\\nSecond call (retrieved from cache):\")\n",
    "result = slow_square(4)  # This call will be recorded as a cache hit.\n",
    "print(f\"Result: {result}\")\n",
    "\n",
    "print(\"\\nCache Performance Stats:\")\n",
    "print(hcacsimp.get_cache_perf_stats(\"slow_square\"))"
   ]
  },
  {
   "cell_type": "markdown",
   "id": "3d614729-924d-4285-b5bc-4ed16006ba12",
   "metadata": {},
   "source": [
    "<a name='flush-cache-to-disk'></a>\n",
    "<a name='advanced-features'></a>\n",
    "## Advanced Features\n",
    "\n",
    "## Flush Cache to Disk\n",
    "The following cell writes the current in‑memory cache to disk. This is useful if you want persistence across sessions.\n"
   ]
  },
  {
   "cell_type": "code",
   "execution_count": 33,
   "id": "21ecd2ea-812b-4d67-8fb2-0d2aba944175",
   "metadata": {
    "lines_to_next_cell": 2
   },
   "outputs": [
    {
     "name": "stdout",
     "output_type": "stream",
     "text": [
      "Flushing cache to disk for 'slow_square'...\n",
      "Cache stats after flushing to disk:\n",
      "             memory  disk\n",
      "slow_square       1     1\n"
     ]
    }
   ],
   "source": [
    "print(\"Flushing cache to disk for 'slow_square'...\")\n",
    "hcacsimp.flush_cache_to_disk(\"slow_square\")\n",
    "print(\"Cache stats after flushing to disk:\")\n",
    "print(hcacsimp.cache_stats_to_str(\"slow_square\"))"
   ]
  },
  {
   "cell_type": "markdown",
   "id": "39b16e4a-c007-4cee-8566-0ad9057c54ea",
   "metadata": {},
   "source": [
    "<a name='reset-in‑memory-cache'></a>\n",
    "## Reset In‑Memory Cache\n",
    "\n",
    "Here we reset the in‑memory cache. After this, the in‑memory cache will be empty until reloaded from disk."
   ]
  },
  {
   "cell_type": "code",
   "execution_count": 34,
   "id": "bd4374f3-8f89-422a-923a-3bf4bd01f8a1",
   "metadata": {},
   "outputs": [
    {
     "name": "stdout",
     "output_type": "stream",
     "text": [
      "\n",
      "Resetting in-memory cache for 'slow_square'...\n",
      "Cache stats after resetting in-memory cache:\n",
      "            memory disk\n",
      "slow_square      -    1\n"
     ]
    }
   ],
   "source": [
    "print(\"\\nResetting in-memory cache for 'slow_square'...\")\n",
    "hcacsimp.reset_mem_cache(\"slow_square\")\n",
    "print(\"Cache stats after resetting in-memory cache:\")\n",
    "print(hcacsimp.cache_stats_to_str(\"slow_square\"))"
   ]
  },
  {
   "cell_type": "markdown",
   "id": "04677407-f3d4-46de-b818-100eafb2bf1d",
   "metadata": {},
   "source": [
    "<a name='force-cache-from-disk'></a>\n",
    "## Force Cache from Disk\n",
    "Now we force the in‑memory cache to update from disk. This should repopulate our cache based on the disk copy.\n"
   ]
  },
  {
   "cell_type": "code",
   "execution_count": 35,
   "id": "a42de2d9-05d8-4dd8-947b-71d6751108fb",
   "metadata": {},
   "outputs": [
    {
     "name": "stdout",
     "output_type": "stream",
     "text": [
      "\n",
      "Forcing cache from disk for 'slow_square'...\n",
      "Cache stats after forcing cache from disk:\n",
      "             memory  disk\n",
      "slow_square       1     1\n"
     ]
    }
   ],
   "source": [
    "print(\"\\nForcing cache from disk for 'slow_square'...\")\n",
    "hcacsimp.force_cache_from_disk(\"slow_square\")\n",
    "print(\"Cache stats after forcing cache from disk:\")\n",
    "print(hcacsimp.cache_stats_to_str(\"slow_square\"))"
   ]
  },
  {
   "cell_type": "markdown",
   "id": "0516463d-d450-4071-9284-c1e839cec62a",
   "metadata": {},
   "source": [
    "<a name='attempt-to-reset-disk-cache'></a>\n",
    "## Attempt to Reset Disk Cache\n",
    "\n",
    "The `reset_disk_cache` function is currently not implemented (it contains an assertion).\n",
    "We'll catch the expected error to confirm its behavior.\n"
   ]
  },
  {
   "cell_type": "code",
   "execution_count": 36,
   "id": "59bbf120-4d21-430a-9fad-d4c68a1e4af5",
   "metadata": {},
   "outputs": [
    {
     "name": "stdout",
     "output_type": "stream",
     "text": [
      "\n",
      "Attempting to reset disk cache for 'slow_square' (expected to fail)...\n",
      "reset_disk_cache raised an AssertionError as expected.\n"
     ]
    }
   ],
   "source": [
    "try:\n",
    "    print(\n",
    "        \"\\nAttempting to reset disk cache for 'slow_square' (expected to fail)...\"\n",
    "    )\n",
    "    hcacsimp.reset_disk_cache(\"slow_square\")\n",
    "except AssertionError:\n",
    "    print(\"reset_disk_cache raised an AssertionError as expected.\")"
   ]
  },
  {
   "cell_type": "markdown",
   "id": "70353e61-233b-4ee6-ac41-48f5e35567d7",
   "metadata": {},
   "source": [
    "<a name='viewing-cache-statistics'></a>\n",
    "## Viewing Cache Statistics\n",
    "\n",
    "The hcsi.cache_stats_to_str function provides a summary of the current cache state, including the number of items stored in memory and on disk.\n",
    "Explanation of Cache Storage\n",
    "\n",
    "    - Memory Cache: Stores results in memory for quick access.\n",
    "    - Disk Cache: Stor# Display cache statistics.\n",
    "\n"
   ]
  },
  {
   "cell_type": "code",
   "execution_count": 37,
   "id": "69e0243d-83cb-4f49-a1fe-d3b009b353fa",
   "metadata": {},
   "outputs": [
    {
     "name": "stdout",
     "output_type": "stream",
     "text": [
      "\n",
      "Cache Statistics:\n",
      "             memory  disk\n",
      "slow_square       1     1\n"
     ]
    }
   ],
   "source": [
    "# Display cache statistics.\n",
    "print(\"\\nCache Statistics:\")\n",
    "print(hcacsimp.cache_stats_to_str(\"slow_square\"))"
   ]
  }
 ],
 "metadata": {
  "kernelspec": {
   "display_name": "Python 3 (ipykernel)",
   "language": "python",
   "name": "python3"
  },
  "language_info": {
   "codemirror_mode": {
    "name": "ipython",
    "version": 3
   },
   "file_extension": ".py",
   "mimetype": "text/x-python",
   "name": "python",
   "nbconvert_exporter": "python",
   "pygments_lexer": "ipython3",
   "version": "3.12.3"
  }
 },
 "nbformat": 4,
 "nbformat_minor": 5
}
