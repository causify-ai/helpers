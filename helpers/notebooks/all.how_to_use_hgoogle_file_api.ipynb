{
    "cells": [
        {
            "cell_type": "markdown",
            "metadata": {},
            "source": [
                "CONTENTS:\n",
                "- [This notebook describes and uses functionalities in 'hgoogle_file_api.py' in helpers](#this-notebook-describes-and-uses-functionalities-in-'hgoogle_file_api.py'-in-helpers)\n",
                "- [Get Credentials for your drive](#get-credentials-for-your-drive)\n",
                "- [Get Tab/Sheet id of a particular google sheet](#get-tab/sheet-id-of-a-particular-google-sheet)\n",
                "- [Freeze Rows](#freeze-rows)\n",
                "- [Change the height of certin rows](#change-the-height-of-certin-rows)"
            ]
        },
        {
            "cell_type": "markdown",
            "id": "982ab891-de0a-47d5-946a-0f4fd3f16307",
            "metadata": {},
            "source": [
                "<a name='this-notebook-describes-and-uses-functionalities-in-'hgoogle_file_api.py'-in-helpers'></a>\n",
                "# This notebook describes and uses functionalities in 'hgoogle_file_api.py' in helpers"
            ]
        },
        {
            "cell_type": "code",
            "execution_count": 12,
            "id": "6b997caf-4bfc-47bc-b7e1-584f02da328f",
            "metadata": {},
            "outputs": [
                {
                    "name": "stdout",
                    "output_type": "stream",
                    "text": [
                        "Requirement already satisfied: google-api-python-client in /venv/lib/python3.12/site-packages (2.159.0)\n",
                        "Requirement already satisfied: httplib2<1.dev0,>=0.19.0 in /venv/lib/python3.12/site-packages (from google-api-python-client) (0.22.0)\n",
                        "Requirement already satisfied: google-auth!=2.24.0,!=2.25.0,<3.0.0.dev0,>=1.32.0 in /venv/lib/python3.12/site-packages (from google-api-python-client) (2.38.0)\n",
                        "Requirement already satisfied: google-auth-httplib2<1.0.0,>=0.2.0 in /venv/lib/python3.12/site-packages (from google-api-python-client) (0.2.0)\n",
                        "Requirement already satisfied: google-api-core!=2.0.*,!=2.1.*,!=2.2.*,!=2.3.0,<3.0.0.dev0,>=1.31.5 in /venv/lib/python3.12/site-packages (from google-api-python-client) (2.24.0)\n",
                        "Requirement already satisfied: uritemplate<5,>=3.0.1 in /venv/lib/python3.12/site-packages (from google-api-python-client) (4.1.1)\n",
                        "Requirement already satisfied: googleapis-common-protos<2.0.dev0,>=1.56.2 in /venv/lib/python3.12/site-packages (from google-api-core!=2.0.*,!=2.1.*,!=2.2.*,!=2.3.0,<3.0.0.dev0,>=1.31.5->google-api-python-client) (1.66.0)\n",
                        "Requirement already satisfied: protobuf!=3.20.0,!=3.20.1,!=4.21.0,!=4.21.1,!=4.21.2,!=4.21.3,!=4.21.4,!=4.21.5,<6.0.0.dev0,>=3.19.5 in /venv/lib/python3.12/site-packages (from google-api-core!=2.0.*,!=2.1.*,!=2.2.*,!=2.3.0,<3.0.0.dev0,>=1.31.5->google-api-python-client) (5.29.3)\n",
                        "Requirement already satisfied: proto-plus<2.0.0dev,>=1.22.3 in /venv/lib/python3.12/site-packages (from google-api-core!=2.0.*,!=2.1.*,!=2.2.*,!=2.3.0,<3.0.0.dev0,>=1.31.5->google-api-python-client) (1.25.0)\n",
                        "Requirement already satisfied: requests<3.0.0.dev0,>=2.18.0 in /venv/lib/python3.12/site-packages (from google-api-core!=2.0.*,!=2.1.*,!=2.2.*,!=2.3.0,<3.0.0.dev0,>=1.31.5->google-api-python-client) (2.32.3)\n",
                        "Requirement already satisfied: cachetools<6.0,>=2.0.0 in /venv/lib/python3.12/site-packages (from google-auth!=2.24.0,!=2.25.0,<3.0.0.dev0,>=1.32.0->google-api-python-client) (5.5.1)\n",
                        "Requirement already satisfied: pyasn1-modules>=0.2.1 in /venv/lib/python3.12/site-packages (from google-auth!=2.24.0,!=2.25.0,<3.0.0.dev0,>=1.32.0->google-api-python-client) (0.4.1)\n",
                        "Requirement already satisfied: rsa<5,>=3.1.4 in /venv/lib/python3.12/site-packages (from google-auth!=2.24.0,!=2.25.0,<3.0.0.dev0,>=1.32.0->google-api-python-client) (4.9)\n",
                        "Requirement already satisfied: pyparsing!=3.0.0,!=3.0.1,!=3.0.2,!=3.0.3,<4,>=2.4.2 in /venv/lib/python3.12/site-packages (from httplib2<1.dev0,>=0.19.0->google-api-python-client) (3.2.1)\n",
                        "Requirement already satisfied: pyasn1<0.7.0,>=0.4.6 in /venv/lib/python3.12/site-packages (from pyasn1-modules>=0.2.1->google-auth!=2.24.0,!=2.25.0,<3.0.0.dev0,>=1.32.0->google-api-python-client) (0.6.1)\n",
                        "Requirement already satisfied: charset-normalizer<4,>=2 in /venv/lib/python3.12/site-packages (from requests<3.0.0.dev0,>=2.18.0->google-api-core!=2.0.*,!=2.1.*,!=2.2.*,!=2.3.0,<3.0.0.dev0,>=1.31.5->google-api-python-client) (3.4.1)\n",
                        "Requirement already satisfied: idna<4,>=2.5 in /venv/lib/python3.12/site-packages (from requests<3.0.0.dev0,>=2.18.0->google-api-core!=2.0.*,!=2.1.*,!=2.2.*,!=2.3.0,<3.0.0.dev0,>=1.31.5->google-api-python-client) (3.10)\n",
                        "Requirement already satisfied: urllib3<3,>=1.21.1 in /venv/lib/python3.12/site-packages (from requests<3.0.0.dev0,>=2.18.0->google-api-core!=2.0.*,!=2.1.*,!=2.2.*,!=2.3.0,<3.0.0.dev0,>=1.31.5->google-api-python-client) (2.3.0)\n",
                        "Requirement already satisfied: certifi>=2017.4.17 in /venv/lib/python3.12/site-packages (from requests<3.0.0.dev0,>=2.18.0->google-api-core!=2.0.*,!=2.1.*,!=2.2.*,!=2.3.0,<3.0.0.dev0,>=1.31.5->google-api-python-client) (2024.12.14)\n",
                        "Requirement already satisfied: pip in /venv/lib/python3.12/site-packages (24.0)\n",
                        "Collecting pip\n",
                        "  Using cached pip-24.3.1-py3-none-any.whl.metadata (3.7 kB)\n",
                        "\u001b[31mERROR: Could not find a version that satisfies the requirement install (from versions: none)\u001b[0m\u001b[31m\n",
                        "\u001b[0m\u001b[31mERROR: No matching distribution found for install\u001b[0m\u001b[31m\n",
                        "Requirement already satisfied: gspread in /venv/lib/python3.12/site-packages (6.1.4)\n",
                        "Requirement already satisfied: google-auth>=1.12.0 in /venv/lib/python3.12/site-packages (from gspread) (2.38.0)\n",
                        "Requirement already satisfied: google-auth-oauthlib>=0.4.1 in /venv/lib/python3.12/site-packages (from gspread) (1.2.1)\n",
                        "Requirement already satisfied: cachetools<6.0,>=2.0.0 in /venv/lib/python3.12/site-packages (from google-auth>=1.12.0->gspread) (5.5.1)\n",
                        "Requirement already satisfied: pyasn1-modules>=0.2.1 in /venv/lib/python3.12/site-packages (from google-auth>=1.12.0->gspread) (0.4.1)\n",
                        "Requirement already satisfied: rsa<5,>=3.1.4 in /venv/lib/python3.12/site-packages (from google-auth>=1.12.0->gspread) (4.9)\n",
                        "Requirement already satisfied: requests-oauthlib>=0.7.0 in /venv/lib/python3.12/site-packages (from google-auth-oauthlib>=0.4.1->gspread) (2.0.0)\n",
                        "Requirement already satisfied: pyasn1<0.7.0,>=0.4.6 in /venv/lib/python3.12/site-packages (from pyasn1-modules>=0.2.1->google-auth>=1.12.0->gspread) (0.6.1)\n",
                        "Requirement already satisfied: oauthlib>=3.0.0 in /venv/lib/python3.12/site-packages (from requests-oauthlib>=0.7.0->google-auth-oauthlib>=0.4.1->gspread) (3.2.2)\n",
                        "Requirement already satisfied: requests>=2.0.0 in /venv/lib/python3.12/site-packages (from requests-oauthlib>=0.7.0->google-auth-oauthlib>=0.4.1->gspread) (2.32.3)\n",
                        "Requirement already satisfied: charset-normalizer<4,>=2 in /venv/lib/python3.12/site-packages (from requests>=2.0.0->requests-oauthlib>=0.7.0->google-auth-oauthlib>=0.4.1->gspread) (3.4.1)\n",
                        "Requirement already satisfied: idna<4,>=2.5 in /venv/lib/python3.12/site-packages (from requests>=2.0.0->requests-oauthlib>=0.7.0->google-auth-oauthlib>=0.4.1->gspread) (3.10)\n",
                        "Requirement already satisfied: urllib3<3,>=1.21.1 in /venv/lib/python3.12/site-packages (from requests>=2.0.0->requests-oauthlib>=0.7.0->google-auth-oauthlib>=0.4.1->gspread) (2.3.0)\n",
                        "Requirement already satisfied: certifi>=2017.4.17 in /venv/lib/python3.12/site-packages (from requests>=2.0.0->requests-oauthlib>=0.7.0->google-auth-oauthlib>=0.4.1->gspread) (2024.12.14)\n"
                    ]
                }
            ],
            "source": [
                "!sudo /bin/bash -c \"(source /venv/bin/activate; pip install --upgrade google-api-python-client)\"\n",
                "!sudo /bin/bash -c \"(source /venv/bin/activate; pip install --upgrade pip install oauth2client)\"\n",
                "!sudo /bin/bash -c \"(source /venv/bin/activate; pip install --upgrade gspread)\""
            ]
        },
        {
            "cell_type": "code",
            "execution_count": 67,
            "id": "0fdf8a01-00ed-4e40-8b8b-3e4ecfe37d45",
            "metadata": {},
            "outputs": [
                {
                    "data": {
                        "text/plain": [
                            "<module 'helpers.hgoogle_file_api' from '/app/helpers/hgoogle_file_api.py'>"
                        ]
                    },
                    "execution_count": 67,
                    "metadata": {},
                    "output_type": "execute_result"
                }
            ],
            "source": [
                "import importlib\n",
                "import helpers.hgoogle_file_api as hgofiapi\n",
                "\n",
                "importlib.reload(hgofiapi)"
            ]
        },
        {
            "cell_type": "markdown",
            "id": "f9733115-f65b-43fb-8b56-32be7588c617",
            "metadata": {},
            "source": [
                "<a name='get-credentials-for-your-drive'></a>\n",
                "# Get Credentials for your drive"
            ]
        },
        {
            "cell_type": "code",
            "execution_count": 27,
            "id": "0f3eb12a-bd7e-4846-a8f0-331ece997137",
            "metadata": {},
            "outputs": [
                {
                    "name": "stdout",
                    "output_type": "stream",
                    "text": [
                        "<google.oauth2.service_account.Credentials object at 0x7f4a38e7a300>\n"
                    ]
                }
            ],
            "source": [
                "google_creds = hgofiapi.get_credentials()\n",
                "print(google_creds)"
            ]
        },
        {
            "cell_type": "code",
            "execution_count": 28,
            "id": "feb74dae-ff52-44ce-b698-4c04cc2bc8f3",
            "metadata": {},
            "outputs": [
                {
                    "name": "stdout",
                    "output_type": "stream",
                    "text": [
                        "<googleapiclient.discovery.Resource object at 0x7f4a371c2690>\n"
                    ]
                }
            ],
            "source": [
                "service = hgofiapi.get_sheets_service(credentials=google_creds)\n",
                "print(service)"
            ]
        },
        {
            "cell_type": "markdown",
            "id": "9e1c8840-c759-4bd6-a2c5-f30d94daf72b",
            "metadata": {},
            "source": [
                "<a name='get-tab/sheet-id-of-a-particular-google-sheet'></a>\n",
                "# Get Tab/Sheet id of a particular google sheet"
            ]
        },
        {
            "cell_type": "code",
            "execution_count": 57,
            "id": "67fe7cc1-0f90-4b45-b93d-c6eaecd25028",
            "metadata": {},
            "outputs": [],
            "source": [
                "sheet_name = \"cleaned_profiles\"\n",
                "sheet_id = \"1GGuVc8VNuPYnoIppI1xEZ4Y4eUBOMggOkr_bDU1hq7c\"\n",
                "credentials = google_creds"
            ]
        },
        {
            "cell_type": "code",
            "execution_count": 58,
            "id": "57ba794b-48cd-49f6-a8fd-d87f25d761e4",
            "metadata": {},
            "outputs": [
                {
                    "name": "stdout",
                    "output_type": "stream",
                    "text": [
                        "1502847025\n"
                    ]
                }
            ],
            "source": [
                "sheet_id = hgofiapi.get_sheet_id(sheet_id, credentials = credentials)\n",
                "print(sheet_id)"
            ]
        },
        {
            "cell_type": "markdown",
            "id": "f18db947-8170-4cba-8799-dfe792e1c732",
            "metadata": {},
            "source": [
                "<a name='freeze-rows'></a>\n",
                "# Freeze Rows"
            ]
        },
        {
            "cell_type": "code",
            "execution_count": 72,
            "id": "232a1ee0-83d2-4449-a8c0-a8e8eca02fc5",
            "metadata": {},
            "outputs": [],
            "source": [
                "spreadsheet_id = \"1GGuVc8VNuPYnoIppI1xEZ4Y4eUBOMggOkr_bDU1hq7c\"\n",
                "row_indices = [0, 1, 2]\n",
                "hgofiapi.freeze_rows(\n",
                "    sheet_id=spreadsheet_id,  \n",
                "    row_indices=row_indices,\n",
                "    credentials=credentials\n",
                ")"
            ]
        },
        {
            "cell_type": "markdown",
            "id": "dd9b9b7d-2dc6-416d-bd9c-a8039fadaba2",
            "metadata": {},
            "source": [
                "<a name='change-the-height-of-certin-rows'></a>\n",
                "# Change the height of certin rows"
            ]
        },
        {
            "cell_type": "code",
            "execution_count": 73,
            "id": "50db6e3d-8d05-47ea-9ace-dc79ce131f37",
            "metadata": {},
            "outputs": [],
            "source": [
                "hgofiapi.set_row_height(sheet_id=spreadsheet_id,height= 20, start_index = 0, end_index =2, credentials=google_creds)"
            ]
        }
    ],
    "metadata": {
        "kernelspec": {
            "display_name": "Python 3 (ipykernel)",
            "language": "python",
            "name": "python3"
        },
        "language_info": {
            "codemirror_mode": {
                "name": "ipython",
                "version": 3
            },
            "file_extension": ".py",
            "mimetype": "text/x-python",
            "name": "python",
            "nbconvert_exporter": "python",
            "pygments_lexer": "ipython3",
            "version": "3.12.3"
        }
    },
    "nbformat": 4,
    "nbformat_minor": 5
}
