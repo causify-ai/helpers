{
 "cells": [
  {
   "cell_type": "markdown",
   "id": "d47fc1a0-41bb-482d-ace5-f791ce6afd9c",
   "metadata": {},
   "source": [
    "# Using `hcache_simple` for Caching in Python\n",
    "\n",
    "This tutorial provides a detailed walkthrough of the `hcache_simple` module, which implements a lightweight caching mechanism. Caching can significantly improve performance for functions with expensive computations by storing and reusing their results.\n",
    "\n",
    "This module covers:\n",
    "- Setting up a function for caching.\n",
    "- Monitoring cache performance.\n",
    "- Forcing cache refresh.\n",
    "- Resetting cache data.\n",
    "- Viewing cache statistics."
   ]
  },
  {
   "cell_type": "code",
   "execution_count": 28,
   "id": "77bb4725",
   "metadata": {},
   "outputs": [],
   "source": [
    "# Import necessary modules.\n",
    "import logging\n",
    "import time\n",
    "\n",
    "import helpers.hcache_simple as hcacsimp\n",
    "import helpers.hdbg as hdbg"
   ]
  },
  {
   "cell_type": "code",
   "execution_count": 29,
   "id": "ced7940e",
   "metadata": {
    "lines_to_end_of_cell_marker": 2
   },
   "outputs": [
    {
     "name": "stdout",
     "output_type": "stream",
     "text": [
      "\u001b[0m\u001b[33mWARNING\u001b[0m: Logger already initialized: skipping\n"
     ]
    }
   ],
   "source": [
    "hdbg.init_logger(verbosity=logging.INFO)\n",
    "\n",
    "_LOG = logging.getLogger(__name__)"
   ]
  },
  {
   "cell_type": "markdown",
   "id": "11346403",
   "metadata": {
    "lines_to_next_cell": 2
   },
   "source": [
    "## Setting up Caching with `@hcsi.simple_cache`\n",
    "\n",
    "The `@hcsi.simple_cache` decorator is the core feature of `hcache_simple`. It enables caching for a function and supports both memory- and disk-based storage (`json` or `pickle` format).\n",
    "\n",
    "We'll demonstrate this with a function that simulates a slow computation."
   ]
  },
  {
   "cell_type": "code",
   "execution_count": 30,
   "id": "ac316504",
   "metadata": {},
   "outputs": [],
   "source": [
    "# %%\n",
    "@hcacsimp.simple_cache(cache_type=\"json\", write_through=True)\n",
    "def slow_square(x):\n",
    "    \"\"\"\n",
    "    Simulate a slow function that computes the square of a number.\n",
    "\n",
    "    The `@hcsi.simple_cache` decorator caches the results of this\n",
    "    function to avoid recomputation for the same input.\n",
    "    \"\"\"\n",
    "    time.sleep(2)  # Simulate a time-consuming computation\n",
    "    return x**2"
   ]
  },
  {
   "cell_type": "markdown",
   "id": "bc33546d",
   "metadata": {},
   "source": [
    "### Explanation of the Decorator Parameters\n",
    "- `cache_type=\"json\"`: The cache will be stored in JSON format on disk.\n",
    "- `write_through=True`: Any changes to the cache will be written to disk immediately."
   ]
  },
  {
   "cell_type": "markdown",
   "id": "9d192b38",
   "metadata": {},
   "source": [
    "## Demonstration: First and Subsequent Calls\n",
    "Let's see how caching works:\n",
    "1. On the first call with a specific input, the function takes time to compute.\n",
    "2. On subsequent calls with the same input, the result is retrieved instantly from the cache."
   ]
  },
  {
   "cell_type": "code",
   "execution_count": 31,
   "id": "fc60c59b",
   "metadata": {},
   "outputs": [
    {
     "name": "stdout",
     "output_type": "stream",
     "text": [
      "First call (expected delay):\n",
      "Result: 16\n"
     ]
    }
   ],
   "source": [
    "# First call: Result is computed and cached.\n",
    "print(\"First call (expected delay):\")\n",
    "result = slow_square(4)\n",
    "print(f\"Result: {result}\")"
   ]
  },
  {
   "cell_type": "code",
   "execution_count": 32,
   "id": "b625f209",
   "metadata": {},
   "outputs": [
    {
     "name": "stdout",
     "output_type": "stream",
     "text": [
      "\n",
      "Second call (retrieved from cache):\n",
      "Result: 16\n"
     ]
    }
   ],
   "source": [
    "# Second call: Result is retrieved from the cache.\n",
    "print(\"\\nSecond call (retrieved from cache):\")\n",
    "result = slow_square(4)\n",
    "print(f\"Result: {result}\")"
   ]
  },
  {
   "cell_type": "markdown",
   "id": "c2dfb006",
   "metadata": {},
   "source": [
    "## Monitoring Cache Performance\n",
    "The `hcache_simple` module provides utilities to track cache performance metrics, such as the total number of calls, cache hits, and cache misses.\n",
    "\n",
    "### Explanation of Performance Metrics\n",
    "- **Total Calls (`tot`)**: The total number of times the function was invoked.\n",
    "- **Cache Hits (`hits`)**: The number of times the result was retrieved from the cache.\n",
    "- **Cache Misses (`misses`)**: The number of times the function had to compute the result due to a cache miss.\n",
    "- **Hit Rate**: The percentage of calls where the result was retrieved from the cache."
   ]
  },
  {
   "cell_type": "code",
   "execution_count": 33,
   "id": "6bd8cd30",
   "metadata": {},
   "outputs": [],
   "source": [
    "# Enable cache performance monitoring for `slow_square`.\n",
    "hcacsimp.enable_cache_perf(\"slow_square\")"
   ]
  },
  {
   "cell_type": "code",
   "execution_count": 34,
   "id": "1e2c3de9",
   "metadata": {},
   "outputs": [
    {
     "name": "stdout",
     "output_type": "stream",
     "text": [
      "\n",
      "Cache Performance Stats:\n",
      "slow_square: hits=0 misses=0 tot=0 hit_rate=0.00\n"
     ]
    }
   ],
   "source": [
    "# Retrieve and display cache performance statistics.\n",
    "print(\"\\nCache Performance Stats:\")\n",
    "print(hcacsimp.get_cache_perf_stats(\"slow_square\"))"
   ]
  },
  {
   "cell_type": "markdown",
   "id": "9e9c4383",
   "metadata": {},
   "source": [
    "## Advanced Features\n",
    "### 1. Forcing a Cache Refresh\n",
    "By default, the function retrieves results from the cache if available. However, you can force the function to recompute the result and update the cache by enabling the `force_refresh` property."
   ]
  },
  {
   "cell_type": "code",
   "execution_count": 35,
   "id": "0e78e370",
   "metadata": {},
   "outputs": [
    {
     "name": "stdout",
     "output_type": "stream",
     "text": [
      "\n",
      "Force refresh enabled:\n",
      "Result: 16\n"
     ]
    }
   ],
   "source": [
    "# Force refresh: The function recomputes the result even if it exists in the cache.\n",
    "print(\"\\nForce refresh enabled:\")\n",
    "hcacsimp.set_cache_property(\"user\", \"slow_square\", \"force_refresh\", True)\n",
    "result = slow_square(4)\n",
    "print(f\"Result: {result}\")"
   ]
  },
  {
   "cell_type": "markdown",
   "id": "032448c8",
   "metadata": {},
   "source": [
    "### 2. Resetting the Cache\n",
    "If needed, you can clear the cache for a specific function. This is useful for resetting state or handling corrupted cache data."
   ]
  },
  {
   "cell_type": "code",
   "execution_count": 18,
   "id": "f085a7ff",
   "metadata": {},
   "outputs": [
    {
     "name": "stdout",
     "output_type": "stream",
     "text": [
      "\n",
      "Resetting the cache:\n"
     ]
    },
    {
     "ename": "AssertionError",
     "evalue": "",
     "output_type": "error",
     "traceback": [
      "\u001b[0;31m---------------------------------------------------------------------------\u001b[0m",
      "\u001b[0;31mAssertionError\u001b[0m                            Traceback (most recent call last)",
      "Cell \u001b[0;32mIn[18], line 3\u001b[0m\n\u001b[1;32m      1\u001b[0m \u001b[38;5;66;03m# Reset the cache for `slow_square`.\u001b[39;00m\n\u001b[1;32m      2\u001b[0m \u001b[38;5;28mprint\u001b[39m(\u001b[38;5;124m\"\u001b[39m\u001b[38;5;130;01m\\n\u001b[39;00m\u001b[38;5;124mResetting the cache:\u001b[39m\u001b[38;5;124m\"\u001b[39m)\n\u001b[0;32m----> 3\u001b[0m \u001b[43mreset_cache\u001b[49m\u001b[43m(\u001b[49m\u001b[38;5;124;43m\"\u001b[39;49m\u001b[38;5;124;43mslow_square\u001b[39;49m\u001b[38;5;124;43m\"\u001b[39;49m\u001b[43m)\u001b[49m\n\u001b[1;32m      4\u001b[0m \u001b[38;5;28mprint\u001b[39m(\u001b[38;5;124m\"\u001b[39m\u001b[38;5;124mCache reset.\u001b[39m\u001b[38;5;124m\"\u001b[39m)\n",
      "File \u001b[0;32m/app/helpers/hcache_simple.py:471\u001b[0m, in \u001b[0;36mreset_cache\u001b[0;34m(func_name)\u001b[0m\n\u001b[1;32m    469\u001b[0m \u001b[38;5;28;01mdef\u001b[39;00m\u001b[38;5;250m \u001b[39m\u001b[38;5;21mreset_cache\u001b[39m(func_name: \u001b[38;5;28mstr\u001b[39m \u001b[38;5;241m=\u001b[39m \u001b[38;5;124m\"\u001b[39m\u001b[38;5;124m\"\u001b[39m) \u001b[38;5;241m-\u001b[39m\u001b[38;5;241m>\u001b[39m \u001b[38;5;28;01mNone\u001b[39;00m:\n\u001b[1;32m    470\u001b[0m     reset_mem_cache(func_name)\n\u001b[0;32m--> 471\u001b[0m     \u001b[43mreset_disk_cache\u001b[49m\u001b[43m(\u001b[49m\u001b[43mfunc_name\u001b[49m\u001b[43m)\u001b[49m\n",
      "File \u001b[0;32m/app/helpers/hcache_simple.py:459\u001b[0m, in \u001b[0;36mreset_disk_cache\u001b[0;34m(func_name)\u001b[0m\n\u001b[1;32m    458\u001b[0m \u001b[38;5;28;01mdef\u001b[39;00m\u001b[38;5;250m \u001b[39m\u001b[38;5;21mreset_disk_cache\u001b[39m(func_name: \u001b[38;5;28mstr\u001b[39m \u001b[38;5;241m=\u001b[39m \u001b[38;5;124m\"\u001b[39m\u001b[38;5;124m\"\u001b[39m) \u001b[38;5;241m-\u001b[39m\u001b[38;5;241m>\u001b[39m \u001b[38;5;28;01mNone\u001b[39;00m:\n\u001b[0;32m--> 459\u001b[0m     \u001b[38;5;28;01massert\u001b[39;00m \u001b[38;5;241m0\u001b[39m\n\u001b[1;32m    460\u001b[0m     \u001b[38;5;28;01mif\u001b[39;00m func_name \u001b[38;5;241m==\u001b[39m \u001b[38;5;124m\"\u001b[39m\u001b[38;5;124m\"\u001b[39m:\n\u001b[1;32m    461\u001b[0m         cache_files \u001b[38;5;241m=\u001b[39m glob\u001b[38;5;241m.\u001b[39mglob(\u001b[38;5;124m\"\u001b[39m\u001b[38;5;124mcache.*\u001b[39m\u001b[38;5;124m\"\u001b[39m)\n",
      "\u001b[0;31mAssertionError\u001b[0m: "
     ]
    }
   ],
   "source": [
    "# Reset the cache for `slow_square`.\n",
    "print(\"\\nResetting the cache:\")\n",
    "hcacsimp.reset_cache(\"slow_square\")\n",
    "print(\"Cache reset.\")"
   ]
  },
  {
   "cell_type": "code",
   "execution_count": null,
   "id": "7c8bf129",
   "metadata": {},
   "outputs": [],
   "source": [
    "# Recalculating after cache reset.\n",
    "print(\"Recalculating after cache reset:\")\n",
    "result = slow_square(4)\n",
    "print(f\"Result: {result}\")"
   ]
  },
  {
   "cell_type": "markdown",
   "id": "88244da2",
   "metadata": {},
   "source": [
    "## Viewing Cache Statistics\n",
    "The `hcsi.cache_stats_to_str` function provides a summary of the current cache state, including the number of items stored in memory and on disk.\n",
    "\n",
    "### Explanation of Cache Storage\n",
    "- **Memory Cache**: Stores results in memory for quick access.\n",
    "- **Disk Cache**: Stores results on disk for persistence across program runs."
   ]
  },
  {
   "cell_type": "code",
   "execution_count": 36,
   "id": "993c807d",
   "metadata": {},
   "outputs": [
    {
     "name": "stdout",
     "output_type": "stream",
     "text": [
      "\n",
      "Cache Statistics:\n",
      "             memory  disk\n",
      "slow_square       1     1\n"
     ]
    }
   ],
   "source": [
    "# Display cache statistics.\n",
    "print(\"\\nCache Statistics:\")\n",
    "print(hcacsimp.cache_stats_to_str(\"slow_square\"))"
   ]
  }
 ],
 "metadata": {
  "jupytext": {
   "formats": "ipynb,py:light"
  },
  "kernelspec": {
   "display_name": "Python 3 (ipykernel)",
   "language": "python",
   "name": "python3"
  },
  "language_info": {
   "codemirror_mode": {
    "name": "ipython",
    "version": 3
   },
   "file_extension": ".py",
   "mimetype": "text/x-python",
   "name": "python",
   "nbconvert_exporter": "python",
   "pygments_lexer": "ipython3",
   "version": "3.12.3"
  }
 },
 "nbformat": 4,
 "nbformat_minor": 5
}
